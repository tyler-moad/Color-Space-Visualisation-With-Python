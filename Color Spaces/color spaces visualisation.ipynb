{
 "cells": [
  {
   "cell_type": "markdown",
   "metadata": {},
   "source": [
    "# Color spaces visualised with Plotly"
   ]
  },
  {
   "cell_type": "code",
   "execution_count": 64,
   "metadata": {},
   "outputs": [],
   "source": [
    "import plotly.graph_objects as go\n",
    "import numpy as np\n",
    "from skimage.color import rgb2hsv, hsv2rgb\n",
    "import matplotlib\n",
    "import colorsys"
   ]
  },
  {
   "cell_type": "code",
   "execution_count": 65,
   "metadata": {},
   "outputs": [],
   "source": [
    "\n",
    "x_ = np.linspace(0., 1., 20)\n",
    "y_ = np.linspace(0., 1., 20)\n",
    "z_ = np.linspace(0., 1., 20)\n",
    "\n",
    "x, y, z = np.meshgrid(x_, y_, z_, indexing='ij')\n",
    "\n",
    "#assert np.all(x[:,0,0] == x_)\n",
    "#assert np.all(y[0,:,0] == y_)\n",
    "#assert np.all(z[0,0,:] == z_)\n"
   ]
  },
  {
   "cell_type": "code",
   "execution_count": 66,
   "metadata": {},
   "outputs": [
    {
     "data": {
      "text/plain": [
       "(8000, 3)"
      ]
     },
     "execution_count": 66,
     "metadata": {},
     "output_type": "execute_result"
    }
   ],
   "source": [
    "points = np.transpose(np.vstack(( np.ravel(x),np.ravel(y), np.ravel(z) )))\n",
    "points.shape"
   ]
  },
  {
   "cell_type": "markdown",
   "metadata": {},
   "source": [
    "## RGB"
   ]
  },
  {
   "cell_type": "code",
   "execution_count": 67,
   "metadata": {},
   "outputs": [],
   "source": [
    "rgb_coords = points *255"
   ]
  },
  {
   "cell_type": "code",
   "execution_count": 68,
   "metadata": {},
   "outputs": [
    {
     "data": {
      "text/plain": [
       "'#0000c9'"
      ]
     },
     "execution_count": 68,
     "metadata": {},
     "output_type": "execute_result"
    }
   ],
   "source": [
    "matplotlib.colors.to_hex(points[15])"
   ]
  },
  {
   "cell_type": "code",
   "execution_count": 69,
   "metadata": {},
   "outputs": [],
   "source": [
    "rgb_hex_colors = [ matplotlib.colors.to_hex(points[i]) for i  in range(len(points))]"
   ]
  },
  {
   "cell_type": "code",
   "execution_count": 70,
   "metadata": {},
   "outputs": [
    {
     "data": {
      "text/plain": [
       "8000"
      ]
     },
     "execution_count": 70,
     "metadata": {},
     "output_type": "execute_result"
    }
   ],
   "source": [
    "len(rgb_hex_colors)"
   ]
  },
  {
   "cell_type": "code",
   "execution_count": 72,
   "metadata": {},
   "outputs": [],
   "source": [
    "fig = go.Figure(data=[go.Scatter3d(\n",
    "    x=rgb_coords[:,0],\n",
    "    y=rgb_coords[:,1],\n",
    "    z=rgb_coords[:,2],\n",
    "    mode='markers',\n",
    "    marker=dict(\n",
    "        size=4,\n",
    "        color=rgb_hex_colors,                # set color to an array/list of desired values\n",
    "        #colorscale='Viridis',   # choose a colorscale\n",
    "        opacity=0.8\n",
    "    )\n",
    ")])\n",
    "\n",
    "# tight layout\n",
    "fig.update_layout(margin=dict(l=0, r=0, b=0, t=0))\n",
    "#fig.show()\n",
    "fig.write_html(\"rgb.html\")"
   ]
  },
  {
   "cell_type": "markdown",
   "metadata": {},
   "source": [
    "## HSV"
   ]
  },
  {
   "cell_type": "code",
   "execution_count": 74,
   "metadata": {},
   "outputs": [],
   "source": [
    "h_ = np.linspace(0., 1., 48)\n",
    "s_ = np.linspace(0., 1., 10)\n",
    "v_ = np.linspace(0., 1., 10)\n",
    "\n",
    "h_grid, s_grid, v_grid = np.meshgrid(h_, s_, v_, indexing='ij')\n",
    "hsv_grid = np.transpose(np.vstack(( np.ravel(h_grid),np.ravel(s_grid), np.ravel(v_grid) )))"
   ]
  },
  {
   "cell_type": "code",
   "execution_count": 75,
   "metadata": {},
   "outputs": [],
   "source": [
    "h,s,v = hsv_grid[:,0], hsv_grid[:,1], hsv_grid[:,2]"
   ]
  },
  {
   "cell_type": "code",
   "execution_count": 76,
   "metadata": {},
   "outputs": [],
   "source": [
    "rgb = hsv2rgb(hsv_grid)\n",
    "hex_colors = [ matplotlib.colors.to_hex(rgb[i]) for i  in range(len(rgb))]"
   ]
  },
  {
   "cell_type": "code",
   "execution_count": 77,
   "metadata": {},
   "outputs": [],
   "source": [
    "coords_hsv = np.zeros(hsv_grid.shape)\n",
    "coords_hsv[:,0] = s * np.cos(2 * np.pi * h)\n",
    "coords_hsv[:,1] = s * np.sin(2 * np.pi * h)\n",
    "coords_hsv[:,2] = v"
   ]
  },
  {
   "cell_type": "code",
   "execution_count": 78,
   "metadata": {
    "scrolled": false
   },
   "outputs": [],
   "source": [
    "fig = go.Figure(data=[go.Scatter3d(\n",
    "    x=coords_hsv[:,0],\n",
    "    y=coords_hsv[:,1],\n",
    "    z=coords_hsv[:,2],\n",
    "    mode='markers',\n",
    "    marker=dict(\n",
    "        size=8,\n",
    "        color=hex_colors,                # set color to an array/list of desired values\n",
    "        #colorscale='Viridis',   # choose a colorscale\n",
    "        opacity=1\n",
    "    )\n",
    ")])\n",
    "\n",
    "# tight layout\n",
    "fig.update_layout(margin=dict(l=5, r=5, b=5, t=5))\n",
    "fig.write_html(\"hsv.html\")"
   ]
  },
  {
   "cell_type": "markdown",
   "metadata": {},
   "source": [
    "##  HSL"
   ]
  },
  {
   "cell_type": "code",
   "execution_count": 87,
   "metadata": {},
   "outputs": [],
   "source": [
    "h_ = np.linspace(0., 1., 48)\n",
    "s_ = np.linspace(0., 1., 15)\n",
    "l_ = np.linspace(0., 1., 15)\n",
    "\n",
    "h_grid, s_grid, l_grid = np.meshgrid(h_, s_, l_, indexing='ij')\n",
    "hsl_grid = np.transpose(np.vstack(( np.ravel(h_grid),np.ravel(s_grid), np.ravel(l_grid) )))\n",
    "\n",
    "h,s,l = hsl_grid[:,0], hsl_grid[:,1], hsl_grid[:,2]"
   ]
  },
  {
   "cell_type": "code",
   "execution_count": 88,
   "metadata": {},
   "outputs": [],
   "source": [
    "rgb = [colorsys.hls_to_rgb(h[i],l[i],s[i]) for i in range(len(hsl_grid))]"
   ]
  },
  {
   "cell_type": "code",
   "execution_count": 89,
   "metadata": {},
   "outputs": [],
   "source": [
    "hex_colors = [ matplotlib.colors.to_hex(rgb[i]) for i  in range(len(rgb))]"
   ]
  },
  {
   "cell_type": "code",
   "execution_count": 90,
   "metadata": {},
   "outputs": [],
   "source": [
    "coords_hsl = np.zeros(hsl_grid.shape)\n",
    "coords_hsl[:,0] = s * np.sin( np.pi * l) * np.cos(2 * np.pi* h)\n",
    "coords_hsl[:,1] = s * np.sin( np.pi * l) * np.sin(2 * np.pi* h)\n",
    "coords_hsl[:,2] = - s * np.cos( np.pi * l)\n",
    "\n",
    "fig = go.Figure(data=[go.Scatter3d(\n",
    "    x=coords_hsl[:,0],\n",
    "    y=coords_hsl[:,1],\n",
    "    z=coords_hsl[:,2],\n",
    "    mode='markers',\n",
    "    marker=dict(\n",
    "        size=4,\n",
    "        color=hex_colors,\n",
    "        opacity=1\n",
    "    )\n",
    ")])\n",
    "\n",
    "# tight layout\n",
    "fig.update_layout(margin=dict(l=0, r=0, b=0, t=0))\n",
    "fig.write_html(\"hsl.html\")"
   ]
  },
  {
   "cell_type": "code",
   "execution_count": null,
   "metadata": {},
   "outputs": [],
   "source": []
  },
  {
   "cell_type": "code",
   "execution_count": null,
   "metadata": {},
   "outputs": [],
   "source": []
  }
 ],
 "metadata": {
  "kernelspec": {
   "display_name": "Python 3",
   "language": "python",
   "name": "python3"
  },
  "language_info": {
   "codemirror_mode": {
    "name": "ipython",
    "version": 3
   },
   "file_extension": ".py",
   "mimetype": "text/x-python",
   "name": "python",
   "nbconvert_exporter": "python",
   "pygments_lexer": "ipython3",
   "version": "3.7.9"
  }
 },
 "nbformat": 4,
 "nbformat_minor": 4
}
